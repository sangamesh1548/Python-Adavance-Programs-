{
 "cells": [
  {
   "cell_type": "markdown",
   "metadata": {},
   "source": [
    "1. Write a function that counts how many concentric layers a rug."
   ]
  },
  {
   "cell_type": "code",
   "execution_count": 6,
   "metadata": {},
   "outputs": [
    {
     "name": "stdout",
     "output_type": "stream",
     "text": [
      "2\n",
      "3\n",
      "5\n"
     ]
    }
   ],
   "source": [
    "def count_layers(n):\n",
    "    count=0\n",
    "    set1={i for i in n}\n",
    "    for i in set1:\n",
    "        count+=1\n",
    "    return count\n",
    "    \n",
    "a=count_layers([ \"AAAA\", \"ABBA\", \"AAAA\" ])\n",
    "print(a)\n",
    "b=count_layers([ \"AAAAAAAAA\", \"ABBBBBBBA\", \"ABBAAABBA\", \"ABBBBBBBA\", \"AAAAAAAAA\" ]) \n",
    "print(b)\n",
    "c=count_layers([ \"AAAAAAAAAAA\", \"AABBBBBBBAA\", \"AABCCCCCBAA\", \"AABCAAACBAA\", \"AABCADACBAA\", \"AABCAAACBAA\", \"AABCCCCCBAA\", \"AABBBBBBBAA\", \"AAAAAAAAAAA\" ])\n",
    "print(c)"
   ]
  },
  {
   "cell_type": "markdown",
   "metadata": {},
   "source": [
    "2. There are many different styles of music and many albums exhibit multiple\n",
    "styles. Create a function that takes a list of musical styles from albums and\n",
    "returns how many styles are unique."
   ]
  },
  {
   "cell_type": "code",
   "execution_count": 74,
   "metadata": {},
   "outputs": [
    {
     "name": "stdout",
     "output_type": "stream",
     "text": [
      "9\n",
      "7\n"
     ]
    }
   ],
   "source": [
    "def unique_styles(a):\n",
    "    dict1={}\n",
    "    count=0\n",
    "    lst=[k for i in a for k in i.split(',')]\n",
    "    for j in list(dict1.fromkeys(lst)):\n",
    "        count+=1\n",
    "    return count\n",
    "\n",
    "\n",
    "\n",
    "\n",
    "\n",
    "\n",
    "a=unique_styles([ \"Dub,Dancehall\", \"Industrial,Heavy Metal\", \"Techno,Dubstep\", \"Synth-pop,Euro-Disco\", \"Industrial,Techno,Minimal\" ])\n",
    "print(a)\n",
    "b=unique_styles([\"Soul\", \"House,Folk\", \"Trance,Downtempo,Big Beat,House\", \"Deep House\", \"Soul\" ])\n",
    "print(b)"
   ]
  },
  {
   "cell_type": "markdown",
   "metadata": {},
   "source": [
    "3. Create a function that finds a target number in a list of prime numbers.\n",
    "Implement a binary search algorithm in your function. The target number will\n",
    "be from 2 through 97. If the target is prime then return &quot;yes&quot; else return &quot;no&quot;."
   ]
  },
  {
   "cell_type": "code",
   "execution_count": 125,
   "metadata": {},
   "outputs": [
    {
     "name": "stdout",
     "output_type": "stream",
     "text": [
      "yes\n",
      "no\n",
      "yes\n",
      "no\n"
     ]
    }
   ],
   "source": [
    "def number(n,n2):\n",
    "    for num in n:\n",
    "        if num > 1:\n",
    "            for i in range(2,n2):\n",
    "                 if (n2 % i) == 0:\n",
    "                        return 'no'\n",
    "                        \n",
    "            else:\n",
    "                return 'yes'\n",
    "\n",
    "\n",
    "primes = [2, 3, 5, 7, 11, 13, 17, 19, 23, 29, 31, 37, 41, 43, 47, 53, 59, 61, 67,\n",
    "71, 73, 79, 83, 89, 97]\n",
    "a=number(primes,3)\n",
    "print(a)\n",
    "b=number(primes,4)\n",
    "print(b)\n",
    "b=number(primes,67)\n",
    "print(b)\n",
    "b=number(primes,36)\n",
    "print(b)"
   ]
  },
  {
   "cell_type": "markdown",
   "metadata": {},
   "source": [
    "4. Create a function that takes in n, a, b and returns the number of positive\n",
    "values raised to the nth power that lie in the range [a, b], inclusive."
   ]
  },
  {
   "cell_type": "code",
   "execution_count": 17,
   "metadata": {},
   "outputs": [
    {
     "name": "stdout",
     "output_type": "stream",
     "text": [
      "2\n",
      "3\n",
      "1\n",
      "1\n",
      "3\n"
     ]
    }
   ],
   "source": [
    "def power_ranger(n,a,b):\n",
    "    count=0\n",
    "    for i in range(b):\n",
    "        if i**n in range(a,b+1):\n",
    "            count+=1\n",
    "    return count\n",
    "    \n",
    "    \n",
    "a=power_ranger(2,49,65)\n",
    "print(a)\n",
    "b=power_ranger(3,1,27)\n",
    "print(b)\n",
    "c=power_ranger(10, 1, 5)\n",
    "print(c)\n",
    "d=power_ranger(5, 31, 33)\n",
    "print(d)\n",
    "d=power_ranger(4, 250, 1300)\n",
    "print(d)"
   ]
  },
  {
   "cell_type": "markdown",
   "metadata": {},
   "source": [
    "5. Given a number, return the difference between the maximum and minimum\n",
    "numbers that can be formed when the digits are rearranged."
   ]
  },
  {
   "cell_type": "code",
   "execution_count": 324,
   "metadata": {},
   "outputs": [
    {
     "name": "stdout",
     "output_type": "stream",
     "text": [
      "760833\n",
      "7709823\n",
      "90981\n"
     ]
    }
   ],
   "source": [
    "def rearranged_difference(n):\n",
    "    b=sorted(str(n))\n",
    "    a=b[::-1]\n",
    "    str2=int(''.join(a))\n",
    "    str1=''\n",
    "    for i in b:\n",
    "        if i=='0':\n",
    "            continue\n",
    "        str1+=i\n",
    "    \n",
    "    \n",
    "    return str2-int(str1)\n",
    "\n",
    "\n",
    "    \n",
    "a=rearranged_difference(972882)\n",
    "print(a)\n",
    "b=rearranged_difference(3320707)\n",
    "print(b)\n",
    "c=rearranged_difference(90010)\n",
    "print(c)"
   ]
  },
  {
   "cell_type": "code",
   "execution_count": null,
   "metadata": {},
   "outputs": [],
   "source": []
  },
  {
   "cell_type": "code",
   "execution_count": null,
   "metadata": {},
   "outputs": [],
   "source": []
  },
  {
   "cell_type": "code",
   "execution_count": null,
   "metadata": {},
   "outputs": [],
   "source": []
  }
 ],
 "metadata": {
  "kernelspec": {
   "display_name": "Python 3",
   "language": "python",
   "name": "python3"
  },
  "language_info": {
   "codemirror_mode": {
    "name": "ipython",
    "version": 3
   },
   "file_extension": ".py",
   "mimetype": "text/x-python",
   "name": "python",
   "nbconvert_exporter": "python",
   "pygments_lexer": "ipython3",
   "version": "3.8.5"
  }
 },
 "nbformat": 4,
 "nbformat_minor": 4
}
