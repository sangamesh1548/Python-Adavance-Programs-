{
 "cells": [
  {
   "cell_type": "markdown",
   "metadata": {},
   "source": [
    "1. Given a sentence as txt, return True if any two adjacent words have this\n",
    "property: One word ends with a vowel, while the word immediately after\n",
    "begins with a vowel (a e i o u)."
   ]
  },
  {
   "cell_type": "code",
   "execution_count": 64,
   "metadata": {
    "scrolled": true
   },
   "outputs": [
    {
     "name": "stdout",
     "output_type": "stream",
     "text": [
      "True\n",
      "True\n",
      "False\n",
      "False\n"
     ]
    }
   ],
   "source": [
    "import re\n",
    "def vowel_links(string):\n",
    "    vowels='aeiou'\n",
    "    for i in range(len(string)):\n",
    "        if string[i] == ' ':\n",
    "            if string[i+1] in vowels:\n",
    "                if string[i-1] in vowels:\n",
    "                    return True\n",
    "                else:\n",
    "                    return False\n",
    "           \n",
    "                \n",
    "                \n",
    "\n",
    "            \n",
    "a=vowel_links(\"a very large appliance\")\n",
    "print(a)\n",
    "d=vowel_links(\"go to edabit\")\n",
    "print(d)\n",
    "b=vowel_links(\"an open fire\")\n",
    "print(b)\n",
    "c=vowel_links(\"a sudden applause\")\n",
    "print(c)\n",
    "\n"
   ]
  },
  {
   "cell_type": "markdown",
   "metadata": {},
   "source": [
    "3. Create a function that returns the characters from a list or string r on odd or\n",
    "even positions, depending on the specifier s. The specifier will be &quot;odd&quot; for\n",
    "items on odd positions (1, 3, 5, ...) and &quot;even&quot; for items on even positions (2,\n",
    "4, 6, ...)."
   ]
  },
  {
   "cell_type": "code",
   "execution_count": 42,
   "metadata": {},
   "outputs": [
    {
     "name": "stdout",
     "output_type": "stream",
     "text": [
      "[4, 8]\n",
      "['E', 'A', 'I']\n",
      "['A', 'B', 'T', 'A', 'I', 'Y']\n"
     ]
    }
   ],
   "source": [
    "def char_at_pos(a,b):\n",
    "    lst=[]\n",
    "    if b=='even':\n",
    "        for i in range(1,len(a),2):\n",
    "            lst.append(a[i])\n",
    "    elif b=='odd':\n",
    "        for j in range(0,len(a),2):\n",
    "            lst.append(a[j])\n",
    "    return lst\n",
    "a=char_at_pos([2, 4, 6, 8, 10], \"even\")\n",
    "print(a)\n",
    "b=char_at_pos(\"EDABIT\", \"odd\")\n",
    "print(b)\n",
    "c=char_at_pos([\"A\", \"R\", \"B\", \"I\", \"T\", \"R\", \"A\", \"R\", \"I\", \"L\", \"Y\"], \"odd\")\n",
    "print(c)"
   ]
  },
  {
   "cell_type": "markdown",
   "metadata": {},
   "source": [
    "4. Write a function that returns the greatest common divisor of all list\n",
    "elements. If the greatest common divisor is 1, return 1."
   ]
  },
  {
   "cell_type": "code",
   "execution_count": 41,
   "metadata": {},
   "outputs": [
    {
     "name": "stdout",
     "output_type": "stream",
     "text": [
      "10\n",
      "1\n",
      "64\n"
     ]
    }
   ],
   "source": [
    "import numpy as np\n",
    "def GCD(a):\n",
    "    return np.gcd.reduce(a)\n",
    "\n",
    "\n",
    "\n",
    "a=GCD([10, 20, 40])\n",
    "print(a)\n",
    "a=GCD([1, 2,3,100])\n",
    "print(a)\n",
    "a=GCD([1024, 192, 2048, 512])\n",
    "print(a)"
   ]
  },
  {
   "cell_type": "markdown",
   "metadata": {},
   "source": [
    "5. A number/string is a palindrome if the digits/characters are the same when\n",
    "read both forward and backward. Examples include &quot;racecar&quot; and 12321.\n",
    "Given a positive number n, check if n or the binary representation of n is\n",
    "palindromic. Return the following:\n",
    "- &quot;Decimal only.&quot; if only n is a palindrome.\n",
    "- &quot;Binary only.&quot; if only the binary representation of n is a palindrome.\n",
    "- &quot;Decimal and binary.&quot; if both are palindromes.\n",
    "- &quot;Neither!&quot; if neither are palindromes."
   ]
  },
  {
   "cell_type": "code",
   "execution_count": 40,
   "metadata": {},
   "outputs": [
    {
     "name": "stdout",
     "output_type": "stream",
     "text": [
      "Decimal only\n",
      "Binary only\n",
      "Decimal and Binary only\n",
      "Nethier Only\n"
     ]
    }
   ],
   "source": [
    "def palindrome_type(a):\n",
    "    string=str(a)\n",
    "    if a + int(string[::-1]) == int(bin(a)[2:],2) + int(bin(a)[2:][::-1],2):\n",
    "        return \"Decimal and Binary only\"\n",
    "    elif a ==int(string[::-1]):\n",
    "        return \"Decimal only\"\n",
    "    elif int(bin(a)[2:],2) == int(bin(a)[2:][::-1],2):\n",
    "        return \"Binary only\"\n",
    "    else:\n",
    "        return 'Nethier Only'\n",
    "    \n",
    "    \n",
    "    \n",
    "a=palindrome_type(1306031) \n",
    "print(a)\n",
    "b=palindrome_type(427787)\n",
    "print(b)\n",
    "c=palindrome_type(313) \n",
    "print(c)\n",
    "d=palindrome_type(934) \n",
    "print(d)"
   ]
  }
 ],
 "metadata": {
  "kernelspec": {
   "display_name": "Python 3",
   "language": "python",
   "name": "python3"
  },
  "language_info": {
   "codemirror_mode": {
    "name": "ipython",
    "version": 3
   },
   "file_extension": ".py",
   "mimetype": "text/x-python",
   "name": "python",
   "nbconvert_exporter": "python",
   "pygments_lexer": "ipython3",
   "version": "3.8.5"
  }
 },
 "nbformat": 4,
 "nbformat_minor": 4
}
