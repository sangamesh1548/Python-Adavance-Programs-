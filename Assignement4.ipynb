{
 "cells": [
  {
   "cell_type": "code",
   "execution_count": null,
   "metadata": {},
   "outputs": [],
   "source": [
    "def fib_fast(n):\n",
    "        if n== 0:\n",
    "            return n\n",
    "        elif n==1:\n",
    "            return n\n",
    "        if n>1:\n",
    "            return fib_fast(n-1)+fib_fast(n-2)\n",
    "a=fib_fast(5) \n",
    "print(a)\n",
    "b=fib_fast(10) \n",
    "\n",
    "print(b)\n",
    "c=fib_fast(20) \n",
    "print(c)\n"
   ]
  },
  {
   "cell_type": "markdown",
   "metadata": {},
   "source": [
    "2. Create a function that takes a strings characters as ASCII and returns each\n",
    "characters hexadecimal value as a string."
   ]
  },
  {
   "cell_type": "markdown",
   "metadata": {},
   "source": [
    "convert_to_hex(&quot;hello world&quot;) ➞ &quot;68 65 6c 6c 6f 20 77 6f 72 6c 64&quot;\n",
    "convert_to_hex(&quot;Big Boi&quot;) ➞ &quot;42 69 67 20 42 6f 69&quot;\n",
    "convert_to_hex(&quot;Marty Poppinson&quot;)"
   ]
  },
  {
   "cell_type": "code",
   "execution_count": null,
   "metadata": {},
   "outputs": [],
   "source": [
    "def convert_to_hex(a):\n",
    "    str1=''\n",
    "    for i in a:\n",
    "        str1+=hex(ord(i))[2::1]\n",
    "    return str1\n",
    "    \n",
    "\n",
    "\n",
    "    \n",
    "a=convert_to_hex(\"hello world\")\n",
    "print(a)\n",
    "b=convert_to_hex(\"Big Boi\")\n",
    "print(b)\n",
    "c=convert_to_hex(\"Marty Poppinson\")\n",
    "print(c)"
   ]
  },
  {
   "cell_type": "markdown",
   "metadata": {},
   "source": [
    "3. Someone has attempted to censor my strings by replacing every vowel\n",
    "with a *, l*k* th*s. Luckily, I&#39;ve been able to find the vowels that were\n",
    "removed.\n",
    "Given a censored string and a string of the censored vowels, return the\n",
    "original uncensored string.)"
   ]
  },
  {
   "cell_type": "markdown",
   "metadata": {},
   "source": [
    "uncensor(&quot;Wh*r* d*d my v*w*ls g*?&quot;, &quot;eeioeo&quot;) ➞ &quot;Where did my vowels go?&quot;\n",
    "uncensor(&quot;abcd&quot;, &quot;&quot;) ➞ &quot;abcd&quot;\n",
    "uncensor(&quot;*PP*RC*S*&quot;, &quot;UEAE&quot;) ➞ &quot;UPPERCASE&quot;uncensor(&quot;Wh*r* d*d my v*w*ls g*\"\")"
   ]
  },
  {
   "cell_type": "code",
   "execution_count": 112,
   "metadata": {},
   "outputs": [
    {
     "data": {
      "text/plain": [
       "'Where ded my vewels ge?'"
      ]
     },
     "execution_count": 112,
     "metadata": {},
     "output_type": "execute_result"
    }
   ],
   "source": [
    "def uncensor(a,b):\n",
    "    for i in b:\n",
    "        t=a.replace('*',i)\n",
    "        a=t.replace('*',i)\n",
    "        \n",
    "\n",
    "    return a\n",
    "    \n",
    "    \n",
    "        \n",
    "                \n",
    "uncensor(\"Wh*r* d*d my v*w*ls g*?\", \"eeioeo\")"
   ]
  },
  {
   "cell_type": "code",
   "execution_count": 3,
   "metadata": {},
   "outputs": [
    {
     "data": {
      "text/plain": [
       "'Where did my vowels go?'"
      ]
     },
     "execution_count": 3,
     "metadata": {},
     "output_type": "execute_result"
    }
   ],
   "source": [
    "def uncensor(string, vowels):\n",
    "    new = \"\"\n",
    "    counter = 0\n",
    "    for i in range(len(string)):\n",
    "        if string[i] == '*':\n",
    "            new += vowels[counter]\n",
    "            counter += 1\n",
    "        else:\n",
    "            new += string[i]\n",
    "    return new\n",
    "uncensor(\"Wh*r* d*d my v*w*ls g*?\", \"eeioeo\")"
   ]
  },
  {
   "cell_type": "markdown",
   "metadata": {},
   "source": [
    "4. Write a function that takes an IP address and returns the domain name\n",
    "using PTR DNS records."
   ]
  },
  {
   "cell_type": "code",
   "execution_count": 82,
   "metadata": {},
   "outputs": [
    {
     "name": "stdout",
     "output_type": "stream",
     "text": [
      "dns.google.\n",
      "dns.google.\n"
     ]
    },
    {
     "name": "stderr",
     "output_type": "stream",
     "text": [
      "<ipython-input-82-8e1228f9708f>:6: DeprecationWarning: please use dns.resolver.resolve() instead\n",
      "  a=resolver.query(addr, \"PTR\")\n"
     ]
    }
   ],
   "source": [
    "from dns import resolver\n",
    "from dns import reversename\n",
    "\n",
    "def get_domain(n):\n",
    "    addr = reversename.from_address(n)\n",
    "    a=resolver.query(addr, \"PTR\")\n",
    "    print(a[0])\n",
    "\n",
    "get_domain(\"8.8.8.8\")\n",
    "get_domain(\"8.8.4.4\")"
   ]
  },
  {
   "cell_type": "markdown",
   "metadata": {},
   "source": [
    "5. Create a function that takes an integer n and returns the factorial of\n",
    "factorials. See below examples for a better understanding:"
   ]
  },
  {
   "cell_type": "code",
   "execution_count": 54,
   "metadata": {},
   "outputs": [
    {
     "name": "stdout",
     "output_type": "stream",
     "text": [
      "288\n",
      "34560\n",
      "24883200\n"
     ]
    }
   ],
   "source": [
    "def fact_of_fact(n):\n",
    "    mul=1\n",
    "    for i in range(n,0,-1):\n",
    "        if i>1:\n",
    "            for j in range(i,0,-1):\n",
    "                mul*=j\n",
    "                \n",
    "    return mul\n",
    "                \n",
    "            \n",
    "            \n",
    "            \n",
    "    \n",
    "            \n",
    "a=fact_of_fact(4)\n",
    "print(a)\n",
    "b=fact_of_fact(5)\n",
    "print(b)\n",
    "c=fact_of_fact(6)\n",
    "print(c)"
   ]
  },
  {
   "cell_type": "code",
   "execution_count": 81,
   "metadata": {},
   "outputs": [
    {
     "name": "stdout",
     "output_type": "stream",
     "text": [
      "dns.google.\n",
      "dns.google.\n"
     ]
    },
    {
     "name": "stderr",
     "output_type": "stream",
     "text": [
      "<ipython-input-81-8e1228f9708f>:6: DeprecationWarning: please use dns.resolver.resolve() instead\n",
      "  a=resolver.query(addr, \"PTR\")\n"
     ]
    }
   ],
   "source": [
    "from dns import resolver\n",
    "from dns import reversename\n",
    "\n",
    "def get_domain(n):\n",
    "    addr = reversename.from_address(n)\n",
    "    a=resolver.query(addr, \"PTR\")\n",
    "    print(a[0])\n",
    "\n",
    "get_domain(\"8.8.8.8\")\n",
    "get_domain(\"8.8.4.4\")"
   ]
  },
  {
   "cell_type": "code",
   "execution_count": null,
   "metadata": {},
   "outputs": [],
   "source": []
  }
 ],
 "metadata": {
  "kernelspec": {
   "display_name": "Python 3",
   "language": "python",
   "name": "python3"
  },
  "language_info": {
   "codemirror_mode": {
    "name": "ipython",
    "version": 3
   },
   "file_extension": ".py",
   "mimetype": "text/x-python",
   "name": "python",
   "nbconvert_exporter": "python",
   "pygments_lexer": "ipython3",
   "version": "3.8.5"
  }
 },
 "nbformat": 4,
 "nbformat_minor": 4
}
