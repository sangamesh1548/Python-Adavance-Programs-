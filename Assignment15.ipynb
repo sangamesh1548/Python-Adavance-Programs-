{
 "cells": [
  {
   "cell_type": "markdown",
   "id": "ce6ce8fa",
   "metadata": {},
   "source": [
    "1. Write a function that returns True if a given name can generate an array of\n",
    "words."
   ]
  },
  {
   "cell_type": "code",
   "execution_count": 1,
   "id": "9cce12d0",
   "metadata": {},
   "outputs": [
    {
     "name": "stdout",
     "output_type": "stream",
     "text": [
      "True\n",
      "True\n",
      "False\n",
      "False\n"
     ]
    }
   ],
   "source": [
    "def anagram(a,b):\n",
    "    if len(sorted(''.join(b).lower()))==len(sorted(''.join(a).lower()))-1:\n",
    "        return True\n",
    "    else:\n",
    "        return False\n",
    "        \n",
    "    \n",
    "            \n",
    "print(anagram(\"Justin Bieber\", [\"injures\", \"ebb\", \"it\"]) )\n",
    "print(anagram(\"Natalie Portman\", [\"ornamental\", \"pita\"]))\n",
    "print(anagram(\"Chris Pratt\", [\"chirps\", \"rat\"]))\n",
    "print(anagram(\"Jeff Goldblum\", [\"jog\", \"meld\", \"bluffs\"]))"
   ]
  },
  {
   "cell_type": "markdown",
   "id": "58aaf222",
   "metadata": {},
   "source": [
    "3. Create a function that, given a phrase and a number of letters guessed,\n",
    "returns a string with hyphens - for every letter of the phrase not guessed, and\n",
    "each letter guessed in place."
   ]
  },
  {
   "cell_type": "code",
   "execution_count": 2,
   "id": "f682ef56",
   "metadata": {},
   "outputs": [
    {
     "name": "stdout",
     "output_type": "stream",
     "text": [
      "-e---o--e-\n",
      "tree\n",
      "P----n r----\n",
      "-e\"- a -e-y -a----y --y!\n"
     ]
    }
   ],
   "source": [
    "def hangman(a,b):\n",
    "    s=''\n",
    "    for i in a:\n",
    "        if i.lower() and i.lower() in b or i.isspace():\n",
    "            s+=i\n",
    "        elif i.isalpha():\n",
    "            s+='-'\n",
    "        else:\n",
    "            s+=i\n",
    "        \n",
    "\n",
    "    return s\n",
    "print(hangman(\"helicopter\", [\"o\", \"e\", \"s\"]))\n",
    "print(hangman(\"tree\", [\"r\", \"t\", \"e\"]))\n",
    "print(hangman(\"Python rules\", [\"a\", \"n\", \"p\", \"r\", \"z\"]))\n",
    "print(hangman('He\"s a very naughty boy!', [\"e\", \"a\", \"y\"]))"
   ]
  },
  {
   "cell_type": "markdown",
   "id": "b395e823",
   "metadata": {},
   "source": [
    "4. The Collatz sequence is as follows:\n",
    "- Start with some given integer n.\n",
    "- If it is even, the next number will be n divided by 2.\n",
    "- If it is odd, multiply it by 3 and add 1 to make the next number.\n",
    "- The sequence stops when it reaches 1.\n",
    "According to the Collatz conjecture, it will always reach 1. If that&#39;s true, you\n",
    "can construct a finite sequence following the aforementioned method for any\n",
    "given integer.\n",
    "Write a function that takes in an integer n and returns the highest integer in\n",
    "the corresponding Collatz sequence."
   ]
  },
  {
   "cell_type": "code",
   "execution_count": 3,
   "id": "6fb1d24d",
   "metadata": {},
   "outputs": [
    {
     "name": "stdout",
     "output_type": "stream",
     "text": [
      "16\n",
      "32\n",
      "256\n"
     ]
    }
   ],
   "source": [
    "def max_collatz(a):\n",
    "    number=[a]\n",
    "    for i in number:\n",
    "        if i%2==0:\n",
    "            number.append(i//2)\n",
    "        elif i==1:\n",
    "            break\n",
    "        else:\n",
    "            number.append(i*3+1)\n",
    "    return max(number)\n",
    "        \n",
    "print(max_collatz(10))\n",
    "print(max_collatz(32))\n",
    "print(max_collatz(85))"
   ]
  },
  {
   "cell_type": "markdown",
   "id": "5f0cdae0",
   "metadata": {},
   "source": [
    "5. Write a function that sorts a list of integers by their digit length in\n",
    "descending order, then settles ties by sorting numbers with the same digit\n",
    "length in ascending order."
   ]
  },
  {
   "cell_type": "code",
   "execution_count": 4,
   "id": "369b5833",
   "metadata": {},
   "outputs": [
    {
     "name": "stdout",
     "output_type": "stream",
     "text": [
      "[101, 77, 23, 7, 5]\n",
      "[789, 563, 444, 9, 5, 2, 1]\n",
      "[53219, 3772, 564, 32, 1]\n"
     ]
    }
   ],
   "source": [
    "def digit_sort(a):\n",
    "    lst=[]\n",
    "    \n",
    "    for i in a:\n",
    "        lst.append(i)\n",
    "    lst.sort(reverse=True)\n",
    "    return lst\n",
    "    \n",
    "    \n",
    "print(digit_sort([77, 23, 5, 7, 101]))\n",
    "print(digit_sort([1, 5, 9, 2, 789, 563, 444]))\n",
    "print(digit_sort([53219, 3772, 564, 32, 1]))"
   ]
  },
  {
   "cell_type": "code",
   "execution_count": null,
   "id": "ea2b397a",
   "metadata": {},
   "outputs": [],
   "source": []
  }
 ],
 "metadata": {
  "kernelspec": {
   "display_name": "Python 3",
   "language": "python",
   "name": "python3"
  },
  "language_info": {
   "codemirror_mode": {
    "name": "ipython",
    "version": 3
   },
   "file_extension": ".py",
   "mimetype": "text/x-python",
   "name": "python",
   "nbconvert_exporter": "python",
   "pygments_lexer": "ipython3",
   "version": "3.8.8"
  }
 },
 "nbformat": 4,
 "nbformat_minor": 5
}
