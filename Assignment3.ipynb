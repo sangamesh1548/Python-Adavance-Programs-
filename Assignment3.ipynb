{
 "cells": [
  {
   "cell_type": "markdown",
   "metadata": {},
   "source": [
    "1. Create a function to perform basic arithmetic operations that includes\n",
    "addition, subtraction, multiplication and division on a string number (e.g. &quot;12 +\n",
    "24&quot; or &quot;23 - 21&quot; or &quot;12 // 12&quot; or &quot;12 * 21&quot;)."
   ]
  },
  {
   "cell_type": "code",
   "execution_count": 3,
   "metadata": {},
   "outputs": [
    {
     "name": "stdout",
     "output_type": "stream",
     "text": [
      "-1\n",
      "0\n",
      "24\n",
      "144\n"
     ]
    }
   ],
   "source": [
    "def numeric(equation):\n",
    "    try:\n",
    "        if '+' in equation:\n",
    "            y = equation.split('+')\n",
    "            x = int(y[0])+int(y[1])\n",
    "        elif '-' in equation:\n",
    "            y = equation.split('-')\n",
    "            x = int(y[0])-int(y[1])\n",
    "        elif '*' in equation:\n",
    "            y = equation.split('*')\n",
    "            x = int(y[0])*int(y[1])\n",
    "        elif '//' in equation:\n",
    "            y = equation.split('//')\n",
    "            x = int(y[0])//int(y[1])\n",
    "    except:\n",
    "        return -1\n",
    "    else:\n",
    "        return x\n",
    "    \n",
    "a=numeric(\"12 // 0 \")\n",
    "print(a)\n",
    "b=numeric(\"12 - 12\")\n",
    "print(b)\n",
    "c=numeric(\"12 + 12\")\n",
    "print(c)\n",
    "d=numeric(\"12 * 12\")\n",
    "print(d)"
   ]
  },
  {
   "cell_type": "code",
   "execution_count": 14,
   "metadata": {},
   "outputs": [
    {
     "data": {
      "text/plain": [
       "450"
      ]
     },
     "execution_count": 14,
     "metadata": {},
     "output_type": "execute_result"
    }
   ],
   "source": [
    "i=45\n",
    "i-32+i-40+i-48+i-50\n",
    "45*10"
   ]
  },
  {
   "cell_type": "markdown",
   "metadata": {},
   "source": [
    "2. Write a function that takes the coordinates of three points in the form of a\n",
    "2d array and returns the perimeter of the triangle. The given points are the\n",
    "vertices of a triangle on a two-dimensional plane."
   ]
  },
  {
   "cell_type": "code",
   "execution_count": 2,
   "metadata": {},
   "outputs": [
    {
     "name": "stdout",
     "output_type": "stream",
     "text": [
      "47.08\n",
      "3.41\n",
      "68.28\n"
     ]
    }
   ],
   "source": [
    "from math import sqrt as sq\n",
    "def perimeter(a):\n",
    "    dict1={}\n",
    "    lst=[j for i in a for j in i]\n",
    "    for i in range(len(lst)):\n",
    "        dict1.update({'x'+str(i):lst[i]})\n",
    "    ab=sq((dict1['x2']-dict1['x0'])**2+(dict1['x3']-dict1['x1'])**2)\n",
    "    bc=sq((dict1['x4']-dict1['x2'])**2+(dict1['x5']-dict1['x3'])**2)\n",
    "    ca=sq((dict1['x0']-dict1['x4'])**2+(dict1['x1']-dict1['x5'])**2)\n",
    "    return \"{0:.2f}\".format(ab+bc+ca)\n",
    "a=perimeter( [ [15, 7], [5, 22], [11, 1] ] )\n",
    "print(a)\n",
    "a=perimeter( [ [0, 0], [0, 1], [1, 0] ] )\n",
    "print(a)\n",
    "b=perimeter([ [-10, -10], [10, 10 ], [-10, 10] ] )\n",
    "print(b)\n"
   ]
  },
  {
   "cell_type": "markdown",
   "metadata": {},
   "source": [
    "3. A city skyline can be represented as a 2-D list with 1s representing\n",
    "buildings. In the example below, the height of the tallest building is 4 (second-\n",
    "most right column).\n",
    "[[0, 0, 0, 0, 0, 0],\n",
    "[0, 0, 0, 0, 1, 0],\n",
    "[0, 0, 1, 0, 1, 0],\n",
    "[0, 1, 1, 1, 1, 0],\n",
    "\n",
    "[1, 1, 1, 1, 1, 1]]\n",
    "Create a function that takes a skyline (2-D list of 0&#39;s and 1&#39;s) and returns the\n",
    "height of the tallest skyscraper."
   ]
  },
  {
   "cell_type": "code",
   "execution_count": null,
   "metadata": {},
   "outputs": [],
   "source": [
    "def tallest_skyscraper(a):\n",
    "    l=1\n",
    "    count=0\n",
    "    for i in a:\n",
    "        if l in i:\n",
    "            count+=1\n",
    "    \n",
    "    return count\n",
    "        \n",
    "\n",
    "\n",
    "a=tallest_skyscraper([\n",
    "[0, 0, 0, 0],\n",
    "[0, 1, 0, 0],\n",
    "[0, 1, 1, 0],\n",
    "[1, 1, 1, 1]\n",
    "])\n",
    "print(a)\n",
    "\n",
    "b=tallest_skyscraper([\n",
    "[0, 1, 0, 0],\n",
    "[0, 1, 0, 0],\n",
    "[0, 1, 1, 0],\n",
    "[1, 1, 1, 1]\n",
    "])\n",
    "print(b)\n",
    "c=tallest_skyscraper([\n",
    "[0, 0, 0, 0],\n",
    "[0, 0, 0, 0],\n",
    "[1, 1, 1, 0],\n",
    "[1, 1, 1, 1]\n",
    "])\n",
    "print(c)"
   ]
  },
  {
   "cell_type": "code",
   "execution_count": null,
   "metadata": {},
   "outputs": [],
   "source": []
  },
  {
   "cell_type": "markdown",
   "metadata": {},
   "source": [
    "5. A number is said to be Disarium if the sum of its digits raised to their\n",
    "respective positions is the number itself.\n",
    "Create a function that determines whether a number is a Disarium or not."
   ]
  },
  {
   "cell_type": "code",
   "execution_count": 4,
   "metadata": {},
   "outputs": [
    {
     "name": "stdout",
     "output_type": "stream",
     "text": [
      "False\n",
      "True\n",
      "False\n",
      "True\n",
      "False\n",
      "True\n"
     ]
    }
   ],
   "source": [
    "def is_disarium(n):\n",
    "    j=1\n",
    "    sum1=0\n",
    "    while j<=len(str(n)):\n",
    "        for i in str(n):\n",
    "            sum1+=int(i)**j\n",
    "            j+=1\n",
    "    if sum1==n:\n",
    "        return True\n",
    "    else:\n",
    "        return False\n",
    "        \n",
    "            \n",
    "        \n",
    "\n",
    "a=is_disarium(75)\n",
    "print(a)\n",
    "b=is_disarium(135)\n",
    "print(b)\n",
    "c=is_disarium(544)\n",
    "print(c)\n",
    "d=is_disarium(518)\n",
    "print(d)\n",
    "e=is_disarium(466)\n",
    "print(e)\n",
    "f=is_disarium(8)\n",
    "print(f)"
   ]
  },
  {
   "cell_type": "code",
   "execution_count": 17,
   "metadata": {},
   "outputs": [
    {
     "data": {
      "text/plain": [
       "4"
      ]
     },
     "execution_count": 17,
     "metadata": {},
     "output_type": "execute_result"
    }
   ],
   "source": [
    "\n"
   ]
  },
  {
   "cell_type": "code",
   "execution_count": null,
   "metadata": {},
   "outputs": [],
   "source": []
  },
  {
   "cell_type": "code",
   "execution_count": null,
   "metadata": {},
   "outputs": [],
   "source": []
  }
 ],
 "metadata": {
  "kernelspec": {
   "display_name": "Python 3",
   "language": "python",
   "name": "python3"
  },
  "language_info": {
   "codemirror_mode": {
    "name": "ipython",
    "version": 3
   },
   "file_extension": ".py",
   "mimetype": "text/x-python",
   "name": "python",
   "nbconvert_exporter": "python",
   "pygments_lexer": "ipython3",
   "version": "3.8.5"
  }
 },
 "nbformat": 4,
 "nbformat_minor": 4
}
