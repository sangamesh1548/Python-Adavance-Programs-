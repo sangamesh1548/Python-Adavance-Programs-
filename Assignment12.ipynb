{
 "cells": [
  {
   "cell_type": "markdown",
   "id": "5ffc15d6",
   "metadata": {},
   "source": [
    "1. For this challenge, forget how to add two numbers together. The best\n",
    "explanation on what to do for this function is this meme:"
   ]
  },
  {
   "cell_type": "code",
   "execution_count": 1,
   "id": "fc24c3cc",
   "metadata": {},
   "outputs": [
    {
     "name": "stdout",
     "output_type": "stream",
     "text": [
      "515\n",
      "1103\n",
      "31499\n"
     ]
    }
   ],
   "source": [
    "def meme_sum(a,b):\n",
    "    c=str(a)\n",
    "    d=str(b)\n",
    "    str1=''\n",
    "    if len(c)==len(d):\n",
    "        for i in range(len(str(c))):\n",
    "            str1+=str(int(c[i])+int(d[i]))\n",
    "\n",
    "    else:\n",
    "        if len(c)>len(d):\n",
    "            s='0'+str(b)\n",
    "            for j in range(len(s)):\n",
    "                str1+=str(int(c[j])+int(s[j]))\n",
    "        else:\n",
    "            s1='0'+str(c)\n",
    "            for k in range(len(s1)):\n",
    "                str1+=str(int(s1[k])+int(d[k]))\n",
    "                \n",
    "    print(str1)\n",
    "        \n",
    "      \n",
    "    \n",
    "meme_sum(26, 39)\n",
    "meme_sum(122, 81)\n",
    "meme_sum(1222, 30277)\n"
   ]
  },
  {
   "cell_type": "markdown",
   "id": "758e31bd",
   "metadata": {},
   "source": [
    "2. Given an integer, create a function that returns the next prime. If the\n",
    "number is prime, return the number itself."
   ]
  },
  {
   "cell_type": "code",
   "execution_count": 3,
   "id": "ced87d9f",
   "metadata": {},
   "outputs": [
    {
     "name": "stdout",
     "output_type": "stream",
     "text": [
      "13\n",
      "29\n",
      "11\n"
     ]
    }
   ],
   "source": [
    "from sympy import *\n",
    "class NextPrime:\n",
    "    def next_prime(self,num):\n",
    "        if num>1:\n",
    "            for i in range(2,num):\n",
    "                 if (num % i) == 0:\n",
    "                        return nextprime(num)\n",
    "                        break\n",
    "            else:\n",
    "                return num\n",
    "            \n",
    "object1= NextPrime()\n",
    "print(object1.next_prime(12))\n",
    "    \n",
    "object1= NextPrime()\n",
    "print(object1.next_prime(29))\n",
    "    \n",
    "object1= NextPrime()\n",
    "print(object1.next_prime(11))\n",
    "    \n",
    "\n",
    "\n",
    "\n"
   ]
  },
  {
   "cell_type": "markdown",
   "id": "b896a953",
   "metadata": {},
   "source": [
    "3. If a person traveled up a hill for 18mins at 20mph and then traveled back\n",
    "down the same path at 60mph then their average speed traveled was 30mph.\n",
    "Write a function that returns the average speed traveled given an uphill time,\n",
    "uphill rate and a downhill rate. Uphill time is given in minutes. Return the rate\n",
    "as an integer (mph). No rounding is necessary."
   ]
  },
  {
   "cell_type": "code",
   "execution_count": 78,
   "id": "2cd784b4",
   "metadata": {},
   "outputs": [
    {
     "name": "stdout",
     "output_type": "stream",
     "text": [
      "30.0\n",
      "15.0\n",
      "12.0\n"
     ]
    }
   ],
   "source": [
    "def ave_spd(a,b,c):\n",
    "    miles=b*a/c\n",
    "    hours=miles/c\n",
    "    total_distance=miles+miles\n",
    "\n",
    "    total_time_taken=a/c+hours\n",
    "    return total_distance/total_time_taken\n",
    "    \n",
    "    \n",
    "\n",
    "print(ave_spd(18, 20, 60))\n",
    "print(ave_spd(30, 10, 30))\n",
    "print(ave_spd(30, 8, 24))"
   ]
  },
  {
   "cell_type": "markdown",
   "id": "c18f5c7c",
   "metadata": {},
   "source": [
    "4. The Kempner Function, applied to a composite number, permits to find the\n",
    "smallest integer greater than zero whose factorial is exactly divided by the\n",
    "number."
   ]
  },
  {
   "cell_type": "code",
   "execution_count": 25,
   "id": "dbbc3c12",
   "metadata": {},
   "outputs": [
    {
     "name": "stdout",
     "output_type": "stream",
     "text": [
      "3\n",
      "5\n"
     ]
    }
   ],
   "source": [
    "def kempner(a):\n",
    "    lst=[]\n",
    "    for i in range(1,a+1):\n",
    "        lst.append(i)\n",
    "    return lst[len(lst)//2-1]\n",
    "    \n",
    "    \n",
    "    \n",
    "            \n",
    "        \n",
    "print(kempner(6))\n",
    "print(kempner(10))\n"
   ]
  },
  {
   "cell_type": "code",
   "execution_count": null,
   "id": "1a4bdbc6",
   "metadata": {},
   "outputs": [],
   "source": []
  }
 ],
 "metadata": {
  "kernelspec": {
   "display_name": "Python 3",
   "language": "python",
   "name": "python3"
  },
  "language_info": {
   "codemirror_mode": {
    "name": "ipython",
    "version": 3
   },
   "file_extension": ".py",
   "mimetype": "text/x-python",
   "name": "python",
   "nbconvert_exporter": "python",
   "pygments_lexer": "ipython3",
   "version": "3.8.8"
  }
 },
 "nbformat": 4,
 "nbformat_minor": 5
}
