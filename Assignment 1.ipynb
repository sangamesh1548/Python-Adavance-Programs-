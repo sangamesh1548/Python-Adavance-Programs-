{
 "cells": [
  {
   "cell_type": "markdown",
   "metadata": {},
   "source": [
    "1. Write a function that takes a list of lists and returns the value of all of the\n",
    "symbols in it, where each symbol adds or takes something from the total\n",
    "score. Symbol values:\n",
    "\n",
    "                                          \n"
   ]
  },
  {
   "cell_type": "code",
   "execution_count": null,
   "metadata": {
    "scrolled": true
   },
   "outputs": [],
   "source": [
    "def check_score(n):\n",
    "    sum=0\n",
    "    for i in n:\n",
    "        for j in i:\n",
    "            if j=='#':\n",
    "                sum+=5\n",
    "            elif j=='O':\n",
    "                sum+=3\n",
    "            elif j=='X':\n",
    "                sum+=1\n",
    "            elif j=='!':\n",
    "                sum-=1\n",
    "            elif j=='!!':\n",
    "                sum-=3\n",
    "            elif j=='!!!':\n",
    "                sum-=5\n",
    "    if sum<=0:\n",
    "        return 0\n",
    "    else:\n",
    "        return sum\n",
    "    \n",
    "check_score([['!!!','O','!']])\n",
    "\n",
    "        \n",
    "        \n",
    "    \n",
    "    "
   ]
  },
  {
   "cell_type": "markdown",
   "metadata": {},
   "source": [
    "2. Create a function that takes a variable number of arguments, each\n",
    "argument representing the number of items in a group, and returns the\n",
    "number of permutations (combinations) of items that you could get by taking\n",
    "one item from each group."
   ]
  },
  {
   "cell_type": "code",
   "execution_count": null,
   "metadata": {},
   "outputs": [],
   "source": [
    "def combinations(*a):\n",
    "    mal=1\n",
    "    for i in a:\n",
    "        mal*=i\n",
    "    return mal\n",
    "        \n",
    "a=combinations(2, 3)\n",
    "b=combinations(3, 7, 4)\n",
    "c=combinations(2, 3, 4, 5) \n",
    "a"
   ]
  },
  {
   "cell_type": "code",
   "execution_count": null,
   "metadata": {},
   "outputs": [],
   "source": [
    "b"
   ]
  },
  {
   "cell_type": "code",
   "execution_count": null,
   "metadata": {},
   "outputs": [],
   "source": [
    "c"
   ]
  },
  {
   "cell_type": "markdown",
   "metadata": {},
   "source": [
    "3. Create a function that takes a string as an argument and returns the Morse\n",
    "code equivalent."
   ]
  },
  {
   "cell_type": "code",
   "execution_count": null,
   "metadata": {},
   "outputs": [],
   "source": []
  },
  {
   "cell_type": "code",
   "execution_count": null,
   "metadata": {},
   "outputs": [],
   "source": [
    "MORSE_CODE_DICT = { 'A':'.-', 'B':'-...',\n",
    "                    'C':'-.-.', 'D':'-..', 'E':'.',\n",
    "                    'F':'..-.', 'G':'--.', 'H':'....',\n",
    "                    'I':'..', 'J':'.---', 'K':'-.-',\n",
    "                    'L':'.-..', 'M':'--', 'N':'-.',\n",
    "                    'O':'---', 'P':'.--.', 'Q':'--.-',\n",
    "                    'R':'.-.', 'S':'...', 'T':'-',\n",
    "                    'U':'..-', 'V':'...-', 'W':'.--',\n",
    "                    'X':'-..-', 'Y':'-.--', 'Z':'--..',\n",
    "                    '1':'.----', '2':'..---', '3':'...--',\n",
    "                    '4':'....-', '5':'.....', '6':'-....',\n",
    "                    '7':'--...', '8':'---..', '9':'----.',\n",
    "                    '0':'-----', ', ':'--..--', '.':'.-.-.-',\n",
    "                    '?':'..--..', '/':'-..-.', '-':'-....-',\n",
    "                   '(':'-.--.', ')':'-.--.-','!':'-.-.--'}\n",
    "def encode_morse(*a):\n",
    "    s='HELP ME!'\n",
    "    s1=[]\n",
    "    for i in s:\n",
    "        for j in i:\n",
    "            s1.append(MORSE_CODE_DICT.get(j))\n",
    "    for k in s1:\n",
    "        if k==None:\n",
    "            print(' ',end='')\n",
    "        else:\n",
    "            print(k,end=' ')\n",
    "    \n",
    "a=encode_morse(\"HELP ME!\")  \n"
   ]
  },
  {
   "cell_type": "code",
   "execution_count": null,
   "metadata": {},
   "outputs": [],
   "source": [
    "b=encode_morse(\"EDABBIT CHALLENGE\")"
   ]
  },
  {
   "cell_type": "markdown",
   "metadata": {},
   "source": [
    "4. Write a function that takes a number and returns True if it&#39;s a prime; False\n",
    "otherwise. The number can be 2^64-1 (2 to the power of 63, not XOR). With\n",
    "the standard technique it would be O(2^64-1), which is much too large for the\n",
    "10 second time limit."
   ]
  },
  {
   "cell_type": "code",
   "execution_count": 14,
   "metadata": {},
   "outputs": [
    {
     "name": "stdout",
     "output_type": "stream",
     "text": [
      "True\n",
      "True\n",
      "False\n"
     ]
    }
   ],
   "source": [
    "def prime_number(a):\n",
    "    if a > 1:  \n",
    "        for i in range(2,a):  \n",
    "            if (a % i) == 0:  \n",
    "                return False\n",
    "                break  \n",
    "        else:  \n",
    "            return True\n",
    "         \n",
    "    else:  \n",
    "        return False\n",
    "a=prime_number(7)\n",
    "print(a)\n",
    "b=prime_number(56963)\n",
    "print(b)\n",
    "c=prime_number(5151512515524)\n",
    "print(c)"
   ]
  },
  {
   "cell_type": "markdown",
   "metadata": {},
   "source": [
    "5. Create a function that converts a word to a bitstring and then to a boolean\n",
    "list based on the following criteria:\n",
    "1. Locate the position of the letter in the English alphabet (from 1 to 26).\n",
    "2. Odd positions will be represented as 1 and 0 otherwise.\n",
    "3. Convert the represented positions to boolean values, 1 for True and 0\n",
    "for False.\n",
    "4. Store the conversions into an array."
   ]
  },
  {
   "cell_type": "code",
   "execution_count": 83,
   "metadata": {},
   "outputs": [
    {
     "name": "stdout",
     "output_type": "stream",
     "text": [
      "[False, True, False, True, True]\n",
      "[False, True, True, False]\n",
      "[False, True, True, False]\n"
     ]
    }
   ],
   "source": [
    "lst='abcdefghijklmnopqrstuvwxyz'\n",
    "\n",
    "def to_boolean_list(a):\n",
    "    ls1=[]\n",
    "    for i in a:\n",
    "        if lst.index(i)%2==0:\n",
    "            ls1.append(True)\n",
    "        else:\n",
    "            ls1.append(False)\n",
    "    return ls1\n",
    "        \n",
    "\n",
    "a=to_boolean_list('loves')\n",
    "print(a)\n",
    "b=to_boolean_list(\"tesh\")\n",
    "print(b)\n",
    "c=to_boolean_list(\"deep\")\n",
    "print(c)"
   ]
  },
  {
   "cell_type": "code",
   "execution_count": 59,
   "metadata": {},
   "outputs": [
    {
     "data": {
      "text/plain": [
       "True"
      ]
     },
     "execution_count": 59,
     "metadata": {},
     "output_type": "execute_result"
    }
   ],
   "source": [
    "\n",
    "bool(\"h\")"
   ]
  },
  {
   "cell_type": "code",
   "execution_count": null,
   "metadata": {},
   "outputs": [],
   "source": []
  },
  {
   "cell_type": "code",
   "execution_count": null,
   "metadata": {},
   "outputs": [],
   "source": []
  }
 ],
 "metadata": {
  "kernelspec": {
   "display_name": "Python 3",
   "language": "python",
   "name": "python3"
  },
  "language_info": {
   "codemirror_mode": {
    "name": "ipython",
    "version": 3
   },
   "file_extension": ".py",
   "mimetype": "text/x-python",
   "name": "python",
   "nbconvert_exporter": "python",
   "pygments_lexer": "ipython3",
   "version": "3.8.5"
  }
 },
 "nbformat": 4,
 "nbformat_minor": 4
}
