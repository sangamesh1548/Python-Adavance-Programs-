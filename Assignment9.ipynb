{
 "cells": [
  {
   "cell_type": "markdown",
   "metadata": {},
   "source": [
    "1. We needs your help to construct a building which will be a pile of n cubes.\n",
    "The cube at the bottom will have a volume of n^3, the cube above will have\n",
    "volume of (n-1)^3 and so on until the top which will have a volume of 1^3.\n",
    "Given the total volume m of the building, can you find the number of cubes n\n",
    "required for the building?\n",
    "In other words, you have to return an integer n such that:\n",
    "n^3 + (n-1)^3 + ... + 1^3 == m\n",
    "Return None if there is no such number."
   ]
  },
  {
   "cell_type": "code",
   "execution_count": 1,
   "metadata": {},
   "outputs": [
    {
     "name": "stdout",
     "output_type": "stream",
     "text": [
      "45\n",
      "2022\n",
      "None\n"
     ]
    }
   ],
   "source": [
    "def pile_of_cubes(m):\n",
    "    n=2\n",
    "    volume = 1\n",
    "    \n",
    "    while volume < m:\n",
    "        volume = volume + n ** 3\n",
    "        if volume == m:\n",
    "            return n\n",
    "        n+=1\n",
    "        \n",
    "        \n",
    "            \n",
    "    \n",
    "b=pile_of_cubes(1071225) \n",
    "print(b)\n",
    "a=pile_of_cubes(4183059834009)\n",
    "print(a)\n",
    "c=pile_of_cubes(16)\n",
    "print(c)"
   ]
  },
  {
   "cell_type": "markdown",
   "metadata": {},
   "source": [
    " 3. A fulcrum of a list is an integer such that all elements to the left of it and all\n",
    "elements to the right of it sum to the same value. Write a function that finds\n",
    "the fulcrum of a list.\n",
    "        \n",
    "        "
   ]
  },
  {
   "cell_type": "code",
   "execution_count": 150,
   "metadata": {},
   "outputs": [
    {
     "name": "stdout",
     "output_type": "stream",
     "text": [
      "3\n",
      "9\n"
     ]
    }
   ],
   "source": [
    "class FIndFulcrum:\n",
    "    def __init__(self,lst):\n",
    "        self.lst=lst\n",
    "        \n",
    "    def fun(self):\n",
    "        for i in range(len(self.lst)):\n",
    "            if sum(self.lst[:i-1-6])==sum(self.lst[i+1:]):\n",
    "                return self.lst[i]\n",
    "        \n",
    "a=FIndFulcrum([1, 2, 4, 9, 10, -10, -9, 3])\n",
    "print(a.fun())\n",
    "b=FIndFulcrum([9,1,9])\n",
    "print(b.fun())\n"
   ]
  },
  {
   "cell_type": "markdown",
   "metadata": {},
   "source": [
    "4. Given a list of integers representing the color of each sock, determine how\n",
    "many pairs of socks with matching colors there are. For example, there are 7\n",
    "socks with colors [1, 2, 1, 2, 1, 3, 2]. There is one pair of color 1 and one of\n",
    "color 2. There are three odd socks left, one of each color. The number of\n",
    "pairs is 2.\n",
    "Create a function that returns an integer representing the number of matching\n",
    "pairs of socks that are available."
   ]
  },
  {
   "cell_type": "code",
   "execution_count": 151,
   "metadata": {},
   "outputs": [
    {
     "name": "stdout",
     "output_type": "stream",
     "text": [
      "3\n",
      "4\n",
      "0\n"
     ]
    }
   ],
   "source": [
    "def sock_merchant(a):\n",
    "    lst=[]\n",
    "    for i in range(len(a)):\n",
    "        if a.count(a[i])>=2:\n",
    "            lst.append(a[i])\n",
    "    return len(lst)//2\n",
    "            \n",
    "a=sock_merchant([10, 20, 20, 10, 10, 30, 50, 10, 20])\n",
    "print(a)\n",
    "b=sock_merchant([50, 20, 30, 90, 30, 20, 50, 20, 90])\n",
    "print(b)\n",
    "c=sock_merchant([])\n",
    "print(c)\n"
   ]
  },
  {
   "cell_type": "markdown",
   "metadata": {},
   "source": [
    "5. Create a function that takes a string containing integers as well as other\n",
    "characters and return the sum of the negative integers only."
   ]
  },
  {
   "cell_type": "code",
   "execution_count": 2,
   "metadata": {},
   "outputs": [
    {
     "name": "stdout",
     "output_type": "stream",
     "text": [
      "-23\n",
      "-33\n"
     ]
    }
   ],
   "source": [
    "import re\n",
    "class NegativeSum:\n",
    "    def __init__(self,str1):\n",
    "        self.str1=str1\n",
    "        \n",
    "    def fun(self):\n",
    "        sum=0\n",
    "        for i in re.findall('-\\d+',self.str1):\n",
    "            sum+=int(i)\n",
    "        return sum\n",
    "    \n",
    "object1=NegativeSum(\"-12 13%14&-11\")\n",
    "print(object1.fun())\n",
    "object2=NegativeSum(\"22 13%14&-11-22 13 12\")\n",
    "print(object2.fun())"
   ]
  }
 ],
 "metadata": {
  "kernelspec": {
   "display_name": "Python 3",
   "language": "python",
   "name": "python3"
  },
  "language_info": {
   "codemirror_mode": {
    "name": "ipython",
    "version": 3
   },
   "file_extension": ".py",
   "mimetype": "text/x-python",
   "name": "python",
   "nbconvert_exporter": "python",
   "pygments_lexer": "ipython3",
   "version": "3.8.8"
  }
 },
 "nbformat": 4,
 "nbformat_minor": 4
}
