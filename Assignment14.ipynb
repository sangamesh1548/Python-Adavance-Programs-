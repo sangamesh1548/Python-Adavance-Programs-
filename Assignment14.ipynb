{
 "cells": [
  {
   "cell_type": "markdown",
   "id": "84a013fb",
   "metadata": {},
   "source": [
    "1. Given a list of numbers, create a function that removes 25% from every\n",
    "number in the list except the smallest number, and adds the total amount\n",
    "removed to the smallest number."
   ]
  },
  {
   "cell_type": "code",
   "execution_count": 115,
   "id": "cdc97da1",
   "metadata": {},
   "outputs": [
    {
     "name": "stdout",
     "output_type": "stream",
     "text": [
      "[3, 3, 3]\n",
      "[12, 7.5, 14.5]\n",
      "[27, 75]\n"
     ]
    }
   ],
   "source": [
    "def show_the_love(a):\n",
    "    m=min(a)\n",
    "    lst=[]\n",
    "    lst1=[]\n",
    "    for i in a:\n",
    "        if i==m:\n",
    "            lst.append(i)\n",
    "\n",
    "        else:\n",
    "            if str(i-i/100*25)[-1]=='0':\n",
    "                lst.append(int(i-i/100*25))\n",
    "                lst1.append(int(i/100*25))\n",
    "                \n",
    "            else:\n",
    "                lst.append(i-i/100*25)\n",
    "                lst1.append(i/100*25)\n",
    "                \n",
    "                \n",
    "    for j in range(len(lst)):\n",
    "        if lst[j]==m:\n",
    "            lst[j]=sum(lst1)+m\n",
    "    return lst\n",
    "print(show_the_love([4, 1, 4]))\n",
    "print(show_the_love([16, 10, 8]))\n",
    "print(show_the_love([2,100]))\n"
   ]
  },
  {
   "cell_type": "markdown",
   "id": "bb30934a",
   "metadata": {},
   "source": [
    "2. Create a function that takes in two words as input and returns a list of three\n",
    "elements, in the following order:"
   ]
  },
  {
   "cell_type": "code",
   "execution_count": 114,
   "id": "4c5bf5e1",
   "metadata": {},
   "outputs": [
    {
     "name": "stdout",
     "output_type": "stream",
     "text": [
      "['aps', 'hr', 'o']\n",
      "['bdor', 'a', 'e']\n",
      "['enp', 'ahis', 'lov']\n"
     ]
    }
   ],
   "source": [
    "def letters(a,b):\n",
    "    lst=[]\n",
    "    lst1=[]\n",
    "    lst2=[]\n",
    "    lst3=[]\n",
    "    for i in a:\n",
    "        if i in b:\n",
    "            lst.append(i)\n",
    "        else:\n",
    "            lst1.append(i)\n",
    "    for j in b:\n",
    "        if j in a:\n",
    "            pass\n",
    "        else:\n",
    "            lst3.append(j)\n",
    "    return list((''.join(sorted(set(lst))),''.join(sorted(set(lst1))),''.join(sorted(set(lst3)))))\n",
    "print(letters(\"sharp\", \"soap\"))  \n",
    "print(letters(\"board\", \"bored\"))\n",
    "print(letters(\"happiness\", \"envelope\"))"
   ]
  },
  {
   "cell_type": "markdown",
   "id": "bbb0827c",
   "metadata": {},
   "source": [
    "3. Write a function that pairs the first number in an array with the last, the\n",
    "second number with the second to last, etc."
   ]
  },
  {
   "cell_type": "code",
   "execution_count": 2,
   "id": "0078b85c",
   "metadata": {},
   "outputs": [
    {
     "name": "stdout",
     "output_type": "stream",
     "text": [
      "[[1, 7], [2, 6], [3, 5], [4, 4]]\n",
      "[[1, 6], [2, 5], [3, 4]]\n",
      "[[5, 2], [9, 1], [8, 8]]\n",
      "[]\n"
     ]
    }
   ],
   "source": [
    "def pairs(a):\n",
    "\n",
    "    lst=[]\n",
    "    x=-1\n",
    "    for i in range(len(a)):\n",
    "        lst.append([a[i],a[x]])\n",
    "        x-=1\n",
    "    lst1=[]\n",
    "    if len(lst)%2!=0:\n",
    "        for i in range(len(lst)//2+1):\n",
    "            lst1.append(lst[i])\n",
    "    else:\n",
    "        for i in range(len(lst)//2):\n",
    "            lst1.append(lst[i])\n",
    "        \n",
    "            \n",
    "    return lst1\n",
    "    \n",
    "    \n",
    "print(pairs([1, 2, 3, 4, 5, 6, 7]))\n",
    "print(pairs([1, 2, 3, 4, 5, 6]))\n",
    "print(pairs([5, 9, 8, 1, 2]))\n",
    "print(pairs([]))"
   ]
  },
  {
   "cell_type": "markdown",
   "id": "f8ce72b8",
   "metadata": {},
   "source": [
    "4. Write a function that adds two numbers. The catch, however, is that the\n",
    "numbers will be strings."
   ]
  },
  {
   "cell_type": "code",
   "execution_count": 21,
   "id": "bb7a7cee",
   "metadata": {},
   "outputs": [
    {
     "name": "stdout",
     "output_type": "stream",
     "text": [
      "9\n",
      "10\n"
     ]
    }
   ],
   "source": [
    "def add_str_nums(a,b):\n",
    "    for i,in a:\n",
    "        if i.isalpha():\n",
    "            print(len(a)+int(b))\n",
    "            break\n",
    "        \n",
    "        elif i.isnumeric():\n",
    "            print(int(a)+int(b))\n",
    "       \n",
    "        \n",
    "add_str_nums(\"4\", \"5\")\n",
    "add_str_nums(\"abcdefg\", \"3\")\n"
   ]
  },
  {
   "cell_type": "markdown",
   "id": "a08a1353",
   "metadata": {},
   "source": [
    "5. lPaeesh le pemu mnxit ehess rtnisg! Oh, sorry, that was supposed to say:\n",
    "Please help me unmix these strings!"
   ]
  },
  {
   "cell_type": "code",
   "execution_count": 126,
   "id": "6ed12236",
   "metadata": {},
   "outputs": [
    {
     "ename": "SyntaxError",
     "evalue": "invalid syntax (<ipython-input-126-25951478aee1>, line 6)",
     "output_type": "error",
     "traceback": [
      "\u001b[1;36m  File \u001b[1;32m\"<ipython-input-126-25951478aee1>\"\u001b[1;36m, line \u001b[1;32m6\u001b[0m\n\u001b[1;33m    print(assert mix_up(\"12345\"))\u001b[0m\n\u001b[1;37m          ^\u001b[0m\n\u001b[1;31mSyntaxError\u001b[0m\u001b[1;31m:\u001b[0m invalid syntax\n"
     ]
    }
   ],
   "source": [
    "def mix_up(first):\n",
    "    \n",
    "    new_second = first[:2]\n",
    "    return \" \".join((new_second))\n",
    "\n",
    "print(assert mix_up(\"12345\"))\n",
    "assert mix_up('dog')"
   ]
  },
  {
   "cell_type": "code",
   "execution_count": 134,
   "id": "5f55edb0",
   "metadata": {},
   "outputs": [
    {
     "ename": "AssertionError",
     "evalue": "",
     "output_type": "error",
     "traceback": [
      "\u001b[1;31m---------------------------------------------------------------------------\u001b[0m",
      "\u001b[1;31mAssertionError\u001b[0m                            Traceback (most recent call last)",
      "\u001b[1;32m<ipython-input-134-a3803ab41eaa>\u001b[0m in \u001b[0;36m<module>\u001b[1;34m\u001b[0m\n\u001b[1;32m----> 1\u001b[1;33m \u001b[1;32massert\u001b[0m\u001b[1;33m(\u001b[0m\u001b[1;33m)\u001b[0m\u001b[1;33m\u001b[0m\u001b[1;33m\u001b[0m\u001b[0m\n\u001b[0m",
      "\u001b[1;31mAssertionError\u001b[0m: "
     ]
    }
   ],
   "source": []
  },
  {
   "cell_type": "code",
   "execution_count": null,
   "id": "90aca77e",
   "metadata": {},
   "outputs": [],
   "source": []
  }
 ],
 "metadata": {
  "kernelspec": {
   "display_name": "Python 3",
   "language": "python",
   "name": "python3"
  },
  "language_info": {
   "codemirror_mode": {
    "name": "ipython",
    "version": 3
   },
   "file_extension": ".py",
   "mimetype": "text/x-python",
   "name": "python",
   "nbconvert_exporter": "python",
   "pygments_lexer": "ipython3",
   "version": "3.8.8"
  }
 },
 "nbformat": 4,
 "nbformat_minor": 5
}
