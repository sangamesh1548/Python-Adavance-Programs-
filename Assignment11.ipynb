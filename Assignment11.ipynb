{
 "cells": [
  {
   "cell_type": "markdown",
   "metadata": {},
   "source": [
    "1. Create a function that takes a list and returns a new list containing only\n",
    "prime numbers."
   ]
  },
  {
   "cell_type": "code",
   "execution_count": 16,
   "metadata": {},
   "outputs": [
    {
     "name": "stdout",
     "output_type": "stream",
     "text": [
      "[7, 3, 11]\n",
      "[10007, 1009]\n",
      "[1009, 3, 61, 1087, 1091, 1093, 1097]\n"
     ]
    }
   ],
   "source": [
    "def filter_primes(lst):\n",
    "    lst1=[]\n",
    "    for num in lst:\n",
    "         if num > 1:\n",
    "                for i in range(2,num):\n",
    "                    if (num % i) == 0:\n",
    "                        break\n",
    "                else:\n",
    "                    lst1.append(num)\n",
    "    return lst1\n",
    "                    \n",
    "       \n",
    "\n",
    "    \n",
    "\n",
    "a=filter_primes([7, 9, 3, 9, 10, 11, 27])\n",
    "print(a)\n",
    "b=filter_primes([10007, 1009, 1007, 27, 147, 77, 1001, 70])\n",
    "print(b)\n",
    "c=filter_primes([1009, 10, 10, 10, 3, 33, 9, 4, 1, 61, 63, 69, 1087, 1091, 1093,1097])\n",
    "print(c)"
   ]
  },
  {
   "cell_type": "markdown",
   "metadata": {},
   "source": [
    "2. Once a water balloon pops, is soaks the area around it. The ground gets\n",
    "drier the further away you travel from the balloon.\n",
    "The effect of a water balloon popping can be modeled using a list. Create a\n",
    "function that takes a list which takes the pre-pop state and returns the state\n",
    "after the balloon is popped. The pre-pop state will contain at most a single\n",
    "balloon, whose size is represented by the only non-zero element."
   ]
  },
  {
   "cell_type": "code",
   "execution_count": 1,
   "metadata": {},
   "outputs": [
    {
     "name": "stdout",
     "output_type": "stream",
     "text": [
      "[0, 1, 2, 3, 4, 3, 2, 1, 0]\n",
      "[0, 1, 2, 3, 2, 1, 0]\n",
      "[0, 1, 2, 1, 0]\n",
      "[0]\n"
     ]
    }
   ],
   "source": [
    "def pop(lst):\n",
    "    max1=max(lst)\n",
    "    for i in range(len(lst)//2):\n",
    "        lst[i]=i\n",
    "        lst[max1+1+i]=i\n",
    "    i=len(lst)//2+1\n",
    "    while i<len(lst):\n",
    "        for j in range(len(lst)//2-1,-1,-1):\n",
    "            lst[i]=j\n",
    "            i+=1\n",
    "\n",
    "    return lst\n",
    "    \n",
    "a=pop([0, 0, 0, 0, 4, 0, 0, 0, 0])\n",
    "print(a)\n",
    "b=pop([0, 0, 0, 3, 0, 0, 0])\n",
    "print(b)\n",
    "c=pop([0, 0, 2, 0, 0])\n",
    "print(c)\n",
    "d=pop([0])\n",
    "print(d)"
   ]
  },
  {
   "cell_type": "markdown",
   "metadata": {},
   "source": [
    "3. &quot;Loves me, loves me not&quot; is a traditional game in which a person plucks off\n",
    "all the petals of a flower one by one, saying the phrase &quot;Loves me&quot; and\n",
    "&quot;Loves me not&quot; when determining whether the one that they love, loves them\n",
    "back.\n",
    "Given a number of petals, return a string which repeats the phrases &quot;Loves\n",
    "me&quot; and &quot;Loves me not&quot; for every alternating petal, and return the last phrase\n",
    "in all caps. Remember to put a comma and space between phrases."
   ]
  },
  {
   "cell_type": "code",
   "execution_count": 2,
   "metadata": {},
   "outputs": [
    {
     "name": "stdout",
     "output_type": "stream",
     "text": [
      "Loves me,Loves me not,LOVES ME\n",
      "Loves me,Loves me not,Loves me,Loves me not,Loves me,LOVES ME NOT\n",
      "LOVES ME\n"
     ]
    }
   ],
   "source": [
    "def loves_me(n):\n",
    "    lst=[]\n",
    "    for i in range(n):\n",
    "        if i%2==0:\n",
    "            lst.append('Loves me')\n",
    "        else:\n",
    "            lst.append('Loves me not')\n",
    "    lst[-1]=lst[-1].upper()\n",
    "    print(*lst,sep=',')\n",
    "            \n",
    "loves_me(3)\n",
    "loves_me(6)\n",
    "loves_me(1)\n"
   ]
  },
  {
   "cell_type": "markdown",
   "metadata": {},
   "source": [
    "4. Write a function that sorts each string in a list by the letter in alphabetic\n",
    "ascending order (a-z)."
   ]
  },
  {
   "cell_type": "markdown",
   "metadata": {},
   "source": [
    "sort_by_letter([&quot;99a&quot;, &quot;78b&quot;, &quot;c2345&quot;, &quot;11d&quot;])\n",
    "sort_by_letter([&quot;572z&quot;, &quot;5y5&quot;, &quot;304q2&quot;])\n",
    "\n",
    "sort_by_letter([])"
   ]
  },
  {
   "cell_type": "code",
   "execution_count": 4,
   "metadata": {},
   "outputs": [
    {
     "name": "stdout",
     "output_type": "stream",
     "text": [
      "['2344b', '932c', '832u32']\n",
      "['99a', '78b', 'c2345', '11d']\n",
      "['304q2', '5y5', '572z']\n",
      "[]\n"
     ]
    }
   ],
   "source": [
    "def sort_by_letter(lst):\n",
    "    lst.sort(key=lambda x: [i for i in x  if i .isalpha()])\n",
    "    return lst\n",
    "    \n",
    "    \n",
    "\n",
    "\n",
    "print(sort_by_letter([\"932c\", \"832u32\", \"2344b\"]))\n",
    "print(sort_by_letter([\"99a\", \"78b\", \"c2345\", \"11d\"]))\n",
    "print(sort_by_letter([\"572z\", \"5y5\", \"304q2\"]))\n",
    "print(sort_by_letter([]))"
   ]
  },
  {
   "cell_type": "code",
   "execution_count": null,
   "metadata": {},
   "outputs": [],
   "source": []
  },
  {
   "cell_type": "code",
   "execution_count": null,
   "metadata": {},
   "outputs": [],
   "source": []
  },
  {
   "cell_type": "code",
   "execution_count": null,
   "metadata": {},
   "outputs": [],
   "source": []
  },
  {
   "cell_type": "code",
   "execution_count": null,
   "metadata": {},
   "outputs": [],
   "source": []
  }
 ],
 "metadata": {
  "kernelspec": {
   "display_name": "Python 3",
   "language": "python",
   "name": "python3"
  },
  "language_info": {
   "codemirror_mode": {
    "name": "ipython",
    "version": 3
   },
   "file_extension": ".py",
   "mimetype": "text/x-python",
   "name": "python",
   "nbconvert_exporter": "python",
   "pygments_lexer": "ipython3",
   "version": "3.8.8"
  }
 },
 "nbformat": 4,
 "nbformat_minor": 4
}
