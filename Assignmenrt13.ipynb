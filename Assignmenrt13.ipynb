{
 "cells": [
  {
   "cell_type": "markdown",
   "id": "5a5d1d4d",
   "metadata": {},
   "source": [
    "1. Create a function that takes a list and string. The function should remove\n",
    "the letters in the string from the list, and return the list."
   ]
  },
  {
   "cell_type": "code",
   "execution_count": 1,
   "id": "2f94f826",
   "metadata": {},
   "outputs": [
    {
     "name": "stdout",
     "output_type": "stream",
     "text": [
      "['w']\n",
      "['b', 'g', 'w']\n",
      "[]\n"
     ]
    }
   ],
   "source": [
    "def remove_letters(a,b):\n",
    "    for i in b:\n",
    "        a.remove(i)\n",
    "    return a\n",
    "print(remove_letters([\"s\", \"t\", \"r\", \"i\", \"n\", \"g\", \"w\"], \"string\"))    \n",
    "print(remove_letters([\"b\", \"b\", \"l\", \"l\", \"g\", \"n\", \"o\", \"a\",\"o\" ,\"w\"], \"balloon\"))\n",
    "print(remove_letters([\"d\", \"b\", \"t\", \"e\", \"a\", \"i\"], \"edabit\"))"
   ]
  },
  {
   "cell_type": "markdown",
   "id": "aaa2b276",
   "metadata": {},
   "source": [
    "2. A block sequence in three dimensions. We can write a formula for this one:\n",
    "\n",
    "Create a function that takes a number (step) as an argument and returns the\n",
    "amount of blocks in that step."
   ]
  },
  {
   "cell_type": "code",
   "execution_count": 2,
   "id": "5b1bc46a",
   "metadata": {},
   "outputs": [
    {
     "name": "stdout",
     "output_type": "stream",
     "text": [
      "5\n",
      "39\n",
      "12\n"
     ]
    }
   ],
   "source": [
    "def booboo(n) :\n",
    "    return n ==1 or n + booboo(n - 1)\n",
    "\n",
    "\n",
    "def blocks(step): \n",
    "    return step == 0 or  booboo(step) + step * 3 + step * 2 - 1\n",
    "\n",
    "print(blocks(1))\n",
    "print(blocks(5))\n",
    "print(blocks(2))"
   ]
  },
  {
   "cell_type": "markdown",
   "id": "fc76c53b",
   "metadata": {},
   "source": [
    "3. Create a function that subtracts one positive integer from another, without\n",
    "using any arithmetic operators such as -, %, /, +, etc."
   ]
  },
  {
   "cell_type": "code",
   "execution_count": 74,
   "id": "a7055ab4",
   "metadata": {},
   "outputs": [
    {
     "name": "stdout",
     "output_type": "stream",
     "text": [
      "4\n",
      "20\n",
      "0\n"
     ]
    }
   ],
   "source": [
    "def my_sub(x, y):\n",
    "    if (x == 0):\n",
    "        return y\n",
    "    return subtract(y ^ x, (~y & x) << 1)\n",
    "\n",
    "\n",
    "\n",
    "print(my_sub(5,9))\n",
    "print(my_sub(10,30))\n",
    "print(my_sub(0,0))\n"
   ]
  },
  {
   "cell_type": "markdown",
   "id": "c10c6761",
   "metadata": {},
   "source": [
    "4. Create a function that takes a string containing money in dollars and\n",
    "pounds sterling (seperated by comma) and returns the sum of dollar bills only,\n",
    "as an integer.\n",
    "For the input string:\n",
    "- Each amount is prefixed by the currency symbol: $ for dollars and £ for\n",
    "pounds.\n",
    "- Thousands are represented by the suffix k.\n",
    "i.e. $4k = $4,000 and £40k = £40,000"
   ]
  },
  {
   "cell_type": "markdown",
   "id": "7bec043b",
   "metadata": {},
   "source": [
    "add_bill(&quot;d20,p40,p60,d50&quot;)"
   ]
  },
  {
   "cell_type": "code",
   "execution_count": 44,
   "id": "2fa78c18",
   "metadata": {},
   "outputs": [
    {
     "name": "stdout",
     "output_type": "stream",
     "text": [
      "70\n",
      "170\n",
      "2200\n"
     ]
    }
   ],
   "source": [
    "def add_bill(a):\n",
    "    sum=0\n",
    "    for i in a.split(','):\n",
    "        if i.startswith('d') or  i.endswith('k') & i.startswith('d') and i.endswith('k'):\n",
    "            if i[-1]=='k':\n",
    "                sum+=int(i.replace('k','000')[1:])\n",
    "            else:\n",
    "                sum+=int(i[1:])\n",
    "    return sum\n",
    "        \n",
    "print(add_bill(\"d20,p40,p60,d50\"))\n",
    "print(add_bill(\"p30,d20,p60,d150,p360\"))\n",
    "print(add_bill(\"p30,d2k,p60,d200,p360\"))\n"
   ]
  },
  {
   "cell_type": "markdown",
   "id": "234ba4dd",
   "metadata": {},
   "source": [
    "5. Create a function that flips a horizontal list into a vertical list, and a vertical\n",
    "list into a horizontal list.\n",
    "In other words, take an 1 x n list (1 row + n columns) and flip it into a n x 1 list\n",
    "(n rows and 1 column), and vice versa."
   ]
  },
  {
   "cell_type": "code",
   "execution_count": 45,
   "id": "952cf845",
   "metadata": {},
   "outputs": [
    {
     "name": "stdout",
     "output_type": "stream",
     "text": [
      "[[1], [2], [3], [4]]\n",
      "[5, 6, 9]\n"
     ]
    }
   ],
   "source": [
    "def flip_list(a):\n",
    "    lst=[]\n",
    "    for i in a:\n",
    "        if type(i)==int:\n",
    "            lst.append([i])\n",
    "        elif type(i)==list:\n",
    "            for j in i:\n",
    "                lst.append(j)\n",
    "    return lst\n",
    "\n",
    "print(flip_list([1, 2, 3, 4]))\n",
    "print(flip_list([[5], [6], [9]]))"
   ]
  },
  {
   "cell_type": "code",
   "execution_count": null,
   "id": "75e227fb",
   "metadata": {},
   "outputs": [],
   "source": []
  },
  {
   "cell_type": "code",
   "execution_count": null,
   "id": "63e23880",
   "metadata": {},
   "outputs": [],
   "source": []
  },
  {
   "cell_type": "code",
   "execution_count": null,
   "id": "1a802fbe",
   "metadata": {},
   "outputs": [],
   "source": []
  },
  {
   "cell_type": "code",
   "execution_count": null,
   "id": "cb6e290b",
   "metadata": {},
   "outputs": [],
   "source": []
  },
  {
   "cell_type": "code",
   "execution_count": null,
   "id": "eb5f03e1",
   "metadata": {},
   "outputs": [],
   "source": []
  }
 ],
 "metadata": {
  "kernelspec": {
   "display_name": "Python 3",
   "language": "python",
   "name": "python3"
  },
  "language_info": {
   "codemirror_mode": {
    "name": "ipython",
    "version": 3
   },
   "file_extension": ".py",
   "mimetype": "text/x-python",
   "name": "python",
   "nbconvert_exporter": "python",
   "pygments_lexer": "ipython3",
   "version": "3.8.8"
  }
 },
 "nbformat": 4,
 "nbformat_minor": 5
}
